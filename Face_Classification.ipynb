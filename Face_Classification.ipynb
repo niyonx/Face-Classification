{
 "cells": [
  {
   "cell_type": "markdown",
   "metadata": {},
   "source": [
    "# Face Classification\n",
    "\n",
    "Our main goal is to be able to make accurate predictions on a face’s age, gender and ethnicity. To achieve this, we will explore ways on how Transfer Learning and splitting the training and testing data among groups affect our results and see if there are any benefits to do so. We will also use multiple models - from basic linear regression to neural networks - to achieve the best accuracy. Our main end goal then is to create a functional user interface for anyone to be able to play around with our model.\n",
    "\n",
    "[age] is an integer from 0 to 116, indicating the age\n",
    "\n",
    "[gender] is either 0 (male) or 1 (female)\n",
    "\n",
    "[race] is an integer from 0 to 4, denoting White, Black, Asian, Indian, and Others (like Hispanic, Latino, Middle Eastern) respectively."
   ]
  },
  {
   "cell_type": "markdown",
   "metadata": {},
   "source": [
    "## Table of content\n",
    "\n",
    "1. Importing modules\n",
    "2. Loading Dataset\n",
    "3. Analyze Distributions\n",
    "    - Age Distribution\n",
    "    - Ethnicity Distribution\n",
    "    - Gender Distribution\n",
    "    - Inspecting the images\n",
    "4. Split and Preprocess the data\n",
    "5. Modelling and Training\n",
    "    - Decision Trees\n",
    "    - Random Forests\n",
    "    - Logistic Regression\n",
    "    - SVM\n",
    "    - Neural Networks\n",
    "6. Evaluating Models\n",
    "7. Transfer Learning"
   ]
  },
  {
   "cell_type": "markdown",
   "metadata": {},
   "source": [
    "## 1. Load modules"
   ]
  },
  {
   "cell_type": "code",
   "execution_count": 141,
   "metadata": {
    "pycharm": {
     "name": "#%%\n"
    }
   },
   "outputs": [],
   "source": [
    "import numpy as np\n",
    "import pandas as pd\n",
    "import matplotlib.pyplot as plt\n",
    "import sklearn\n",
    "import sklearn.model_selection\n",
    "import sklearn.preprocessing\n",
    "import sklearn.ensemble\n",
    "from sklearn.pipeline import Pipeline\n",
    "from sklearn.model_selection import GridSearchCV, KFold, RandomizedSearchCV\n",
    "import sklearn.tree\n",
    "import plotly.express as px\n",
    "import time\n",
    "import pickle\n",
    "import os.path\n",
    "from PIL import Image\n",
    "import base64\n",
    "import io\n",
    "import cv2\n",
    "import tensorflow as tf\n",
    "\n",
    "pd.options.mode.chained_assignment = None \n",
    "pd.set_option('display.max_columns', 50)"
   ]
  },
  {
   "cell_type": "code",
   "execution_count": 142,
   "metadata": {
    "pycharm": {
     "name": "#%%\n"
    }
   },
   "outputs": [],
   "source": [
    "# pip install tensorflow==2.3.0"
   ]
  },
  {
   "cell_type": "markdown",
   "metadata": {},
   "source": [
    "## 2. Load dataset"
   ]
  },
  {
   "cell_type": "code",
   "execution_count": 143,
   "metadata": {
    "pycharm": {
     "name": "#%%\n"
    }
   },
   "outputs": [
    {
     "data": {
      "text/html": [
       "<div>\n",
       "<style scoped>\n",
       "    .dataframe tbody tr th:only-of-type {\n",
       "        vertical-align: middle;\n",
       "    }\n",
       "\n",
       "    .dataframe tbody tr th {\n",
       "        vertical-align: top;\n",
       "    }\n",
       "\n",
       "    .dataframe thead th {\n",
       "        text-align: right;\n",
       "    }\n",
       "</style>\n",
       "<table border=\"1\" class=\"dataframe\">\n",
       "  <thead>\n",
       "    <tr style=\"text-align: right;\">\n",
       "      <th></th>\n",
       "      <th>age</th>\n",
       "      <th>ethnicity</th>\n",
       "      <th>gender</th>\n",
       "      <th>img_name</th>\n",
       "      <th>pixels</th>\n",
       "    </tr>\n",
       "  </thead>\n",
       "  <tbody>\n",
       "    <tr>\n",
       "      <th>0</th>\n",
       "      <td>1</td>\n",
       "      <td>2</td>\n",
       "      <td>0</td>\n",
       "      <td>20161219203650636.jpg.chip.jpg</td>\n",
       "      <td>129 128 128 126 127 130 133 135 139 142 145 14...</td>\n",
       "    </tr>\n",
       "    <tr>\n",
       "      <th>1</th>\n",
       "      <td>1</td>\n",
       "      <td>2</td>\n",
       "      <td>0</td>\n",
       "      <td>20161219222752047.jpg.chip.jpg</td>\n",
       "      <td>164 74 111 168 169 171 175 182 184 188 193 199...</td>\n",
       "    </tr>\n",
       "    <tr>\n",
       "      <th>2</th>\n",
       "      <td>1</td>\n",
       "      <td>2</td>\n",
       "      <td>0</td>\n",
       "      <td>20161219222832191.jpg.chip.jpg</td>\n",
       "      <td>67 70 71 70 69 67 70 79 90 103 116 132 145 155...</td>\n",
       "    </tr>\n",
       "    <tr>\n",
       "      <th>3</th>\n",
       "      <td>1</td>\n",
       "      <td>2</td>\n",
       "      <td>0</td>\n",
       "      <td>20161220144911423.jpg.chip.jpg</td>\n",
       "      <td>193 197 198 200 199 200 202 203 204 205 208 21...</td>\n",
       "    </tr>\n",
       "    <tr>\n",
       "      <th>4</th>\n",
       "      <td>1</td>\n",
       "      <td>2</td>\n",
       "      <td>0</td>\n",
       "      <td>20161220144914327.jpg.chip.jpg</td>\n",
       "      <td>202 205 209 210 209 209 210 211 212 214 218 21...</td>\n",
       "    </tr>\n",
       "  </tbody>\n",
       "</table>\n",
       "</div>"
      ],
      "text/plain": [
       "   age  ethnicity  gender                        img_name  \\\n",
       "0    1          2       0  20161219203650636.jpg.chip.jpg   \n",
       "1    1          2       0  20161219222752047.jpg.chip.jpg   \n",
       "2    1          2       0  20161219222832191.jpg.chip.jpg   \n",
       "3    1          2       0  20161220144911423.jpg.chip.jpg   \n",
       "4    1          2       0  20161220144914327.jpg.chip.jpg   \n",
       "\n",
       "                                              pixels  \n",
       "0  129 128 128 126 127 130 133 135 139 142 145 14...  \n",
       "1  164 74 111 168 169 171 175 182 184 188 193 199...  \n",
       "2  67 70 71 70 69 67 70 79 90 103 116 132 145 155...  \n",
       "3  193 197 198 200 199 200 202 203 204 205 208 21...  \n",
       "4  202 205 209 210 209 209 210 211 212 214 218 21...  "
      ]
     },
     "execution_count": 143,
     "metadata": {},
     "output_type": "execute_result"
    }
   ],
   "source": [
    "df = pd.read_csv('./age_gender_race.csv')\n",
    "\n",
    "df.head()"
   ]
  },
  {
   "cell_type": "code",
   "execution_count": 144,
   "metadata": {
    "pycharm": {
     "name": "#%%\n"
    }
   },
   "outputs": [
    {
     "name": "stdout",
     "output_type": "stream",
     "text": [
      "23705\n",
      "8917\n"
     ]
    }
   ],
   "source": [
    "print(len(df))\n",
    "print(len(df.pixels[0]))"
   ]
  },
  {
   "cell_type": "code",
   "execution_count": 145,
   "metadata": {
    "pycharm": {
     "name": "#%%\n"
    }
   },
   "outputs": [
    {
     "name": "stdout",
     "output_type": "stream",
     "text": [
      "<class 'pandas.core.frame.DataFrame'>\n",
      "RangeIndex: 23705 entries, 0 to 23704\n",
      "Data columns (total 5 columns):\n",
      " #   Column     Non-Null Count  Dtype \n",
      "---  ------     --------------  ----- \n",
      " 0   age        23705 non-null  int64 \n",
      " 1   ethnicity  23705 non-null  int64 \n",
      " 2   gender     23705 non-null  int64 \n",
      " 3   img_name   23705 non-null  object\n",
      " 4   pixels     23705 non-null  object\n",
      "dtypes: int64(3), object(2)\n",
      "memory usage: 926.1+ KB\n"
     ]
    }
   ],
   "source": [
    "df.info()"
   ]
  },
  {
   "cell_type": "markdown",
   "metadata": {},
   "source": [
    "Defining some metadata that will be useful afterwards."
   ]
  },
  {
   "cell_type": "code",
   "execution_count": 146,
   "metadata": {
    "pycharm": {
     "name": "#%%\n"
    }
   },
   "outputs": [],
   "source": [
    "GENDER_CATEGORIES = ['Male', 'Female']\n",
    "RACE_CATEGORIES = ['White', 'Black', 'Asian', 'Indian', 'Others']\n",
    "IMG_SIZE = 48"
   ]
  },
  {
   "cell_type": "markdown",
   "metadata": {},
   "source": [
    "## 3. Analyzing the data"
   ]
  },
  {
   "cell_type": "code",
   "execution_count": 176,
   "metadata": {
    "pycharm": {
     "name": "#%%\n"
    }
   },
   "outputs": [],
   "source": [
    "def histo(x, bi, title, xl, yl, nt, tick): # This function will be used to draw the histograms\n",
    "    plt.hist(x, bins=bi)\n",
    "    plt.title(title)\n",
    "    plt.xlabel(xl)\n",
    "    plt.ylabel(yl)\n",
    "    if tick != 0:\n",
    "        plt.xticks(np.arange(nt), tick)\n",
    "    \n",
    "    plt.show()"
   ]
  },
  {
   "cell_type": "markdown",
   "metadata": {
    "pycharm": {
     "name": "#%% md\n"
    }
   },
   "source": [
    "### 3a. Age Distribution"
   ]
  },
  {
   "cell_type": "code",
   "execution_count": 178,
   "metadata": {
    "pycharm": {
     "name": "#%%\n"
    }
   },
   "outputs": [
    {
     "data": {
      "image/png": "[encoded data removed]",
      "text/plain": [
       "<Figure size 432x288 with 1 Axes>"
      ]
     },
     "metadata": {
      "needs_background": "light"
     },
     "output_type": "display_data"
    }
   ],
   "source": [
    "histo(df.age, 115, 'Data from the CSV File: Ages', 'Ages', 'Count', 0, 0)\n",
    "# fig = px.histogram(df, x=\"age\", marginal=\"rug\", hover_data=df.columns)\n",
    "# fig.show()"
   ]
  },
  {
   "cell_type": "markdown",
   "metadata": {
    "pycharm": {
     "name": "#%% md\n"
    }
   },
   "source": [
    "As we can see based on this histogram, the age that seems to very occuring in the csv file is 26."
   ]
  },
  {
   "cell_type": "markdown",
   "metadata": {},
   "source": [
    "### 3b. Ethnicity Distribution"
   ]
  },
  {
   "cell_type": "code",
   "execution_count": 179,
   "metadata": {
    "pycharm": {
     "name": "#%%\n"
    }
   },
   "outputs": [
    {
     "data": {
      "image/png": "[encoded data removed]",
      "text/plain": [
       "<Figure size 432x288 with 1 Axes>"
      ]
     },
     "metadata": {
      "needs_background": "light"
     },
     "output_type": "display_data"
    }
   ],
   "source": [
    "histo(df.ethnicity, 9, 'Data from the CSV File: Ethnicity', 'Ethnicity', 'Count', 5, RACE_CATEGORIES)\n",
    "# fig = px.histogram(df, x=\"ethnicity\",color=\"ethnicity\",hover_data=df.columns)\n",
    "# fig.show()"
   ]
  },
  {
   "cell_type": "markdown",
   "source": [
    "As we can see the csv contains mostly people that are White in ethnicity."
   ],
   "metadata": {
    "collapsed": false
   }
  },
  {
   "cell_type": "markdown",
   "source": [
    "### 3c. Gender Distribution"
   ],
   "metadata": {
    "collapsed": false
   }
  },
  {
   "cell_type": "code",
   "execution_count": null,
   "outputs": [],
   "source": [
    "histo(df.gender, 3, 'Data from the CSV File: Gender', 'Gender', 'Count', 2, GENDER_CATEGORIES)\n",
    "# fig = px.histogram(df, x=\"gender\", color=\"gender\", hover_data=df.columns)\n",
    "# fig.show()"
   ],
   "metadata": {
    "collapsed": false,
    "pycharm": {
     "name": "#%%\n"
    }
   }
  },
  {
   "cell_type": "markdown",
   "source": [
    "As we can see from this histogram, the data set has slightly more males then females."
   ],
   "metadata": {
    "collapsed": false
   }
  },
  {
   "cell_type": "markdown",
   "source": [
    "### Gender in terms of age"
   ],
   "metadata": {
    "collapsed": false
   }
  },
  {
   "cell_type": "code",
   "execution_count": null,
   "outputs": [],
   "source": [
    "x_male = df.loc[df['gender'] == 0]\n",
    "x_male = x_male.age\n",
    "x_female = df.loc[df['gender'] == 1]\n",
    "x_female = x_female.age\n",
    "yxm = range(0, len(x_male))\n",
    "yxf = range(0, len(x_female))\n",
    "\n",
    "fig, axes = plt.subplots(ncols=2, sharey=True, figsize=(9, 6))\n",
    "\n",
    "#specify background color and plot title\n",
    "fig.patch.set_facecolor('xkcd:light grey')\n",
    "plt.figtext(.5,.9,\"Population Pyramid \", fontsize=15, ha='center')\n",
    "    \n",
    "#define male and female bars\n",
    "axes[0].barh(yxm, x_male, align='center', color='royalblue')\n",
    "axes[0].set(title='Males')\n",
    "axes[1].barh(yxf, x_female, align='center', color='lightpink')\n",
    "axes[1].set(title='Females')\n",
    "\n",
    "#adjust grid parameters and specify labels for y-axis\n",
    "axes[1].grid()\n",
    "axes[0].invert_xaxis()\n",
    "axes[0].grid()\n",
    "\n",
    "#display plot\n",
    "plt.show()"
   ],
   "metadata": {
    "collapsed": false,
    "pycharm": {
     "name": "#%%\n"
    }
   }
  },
  {
   "cell_type": "markdown",
   "metadata": {},
   "source": [
    "### 3d. Inspecting the images"
   ]
  },
  {
   "cell_type": "markdown",
   "metadata": {},
   "source": [
    "### 3c. Gender Distribution"
   ]
  },
  {
   "cell_type": "code",
   "execution_count": 180,
   "metadata": {
    "pycharm": {
     "name": "#%%\n"
    }
   },
   "outputs": [
    {
     "data": {
      "image/png": "[encoded data removed]",
      "text/plain": [
       "<Figure size 432x288 with 1 Axes>"
      ]
     },
     "metadata": {
      "needs_background": "light"
     },
     "output_type": "display_data"
    }
   ],
   "source": [
    "histo(df.gender, 3, 'Data from the CSV File: Gender', 'Gender', 'Count', 2, GENDER_CATEGORIES)\n",
    "# fig = px.histogram(df, x=\"gender\", color=\"gender\", hover_data=df.columns)\n",
    "# fig.show()"
   ]
  },
  {
   "cell_type": "markdown",
   "metadata": {},
   "source": [
    "As we can see from this histogram, the data set has slightly more males then females."
   ]
  },
  {
   "cell_type": "markdown",
   "metadata": {},
   "source": [
    "### Gender in terms of age"
   ]
  },
  {
   "cell_type": "code",
   "execution_count": 157,
   "metadata": {},
   "outputs": [
    {
     "data": {
      "image/png": "[encoded data removed]",
      "text/plain": [
       "<Figure size 648x432 with 2 Axes>"
      ]
     },
     "metadata": {},
     "output_type": "display_data"
    }
   ],
   "source": [
    "x_male = df.loc[df['gender'] == 0]\n",
    "x_male = x_male.age\n",
    "x_female = df.loc[df['gender'] == 1]\n",
    "x_female = x_female.age\n",
    "yxm = range(0, len(x_male))\n",
    "yxf = range(0, len(x_female))\n",
    "\n",
    "fig, axes = plt.subplots(ncols=2, sharey=True, figsize=(9, 6))\n",
    "\n",
    "#specify background color and plot title\n",
    "fig.patch.set_facecolor('xkcd:light grey')\n",
    "plt.figtext(.5,.9,\"Population Pyramid \", fontsize=15, ha='center')\n",
    "    \n",
    "#define male and female bars\n",
    "axes[0].barh(yxm, x_male, align='center', color='royalblue')\n",
    "axes[0].set(title='Males')\n",
    "axes[1].barh(yxf, x_female, align='center', color='lightpink')\n",
    "axes[1].set(title='Females')\n",
    "\n",
    "#adjust grid parameters and specify labels for y-axis\n",
    "axes[1].grid()\n",
    "axes[0].invert_xaxis()\n",
    "axes[0].grid()\n",
    "\n",
    "#display plot\n",
    "plt.show()"
   ]
  },
  {
   "cell_type": "markdown",
   "metadata": {},
   "source": [
    "### 3d. Inspecting the images"
   ]
  },
  {
   "cell_type": "code",
   "execution_count": null,
   "metadata": {
    "pycharm": {
     "name": "#%%\n"
    }
   },
   "outputs": [],
   "source": [
    "X=np.zeros(shape=(23705,2304))\n",
    "\n",
    "for i in range(len(df.pixels)):\n",
    "    df.pixels[i]=np.array(df.pixels[i].split(),dtype='float32')\n",
    "    X[i]=df.pixels[i]\n",
    "    \n",
    "X.shape"
   ]
  },
  {
   "cell_type": "code",
   "execution_count": null,
   "metadata": {
    "pycharm": {
     "name": "#%%\n"
    }
   },
   "outputs": [],
   "source": [
    "X_reshaped=X.reshape(-1,IMG_SIZE,IMG_SIZE)"
   ]
  },
  {
   "cell_type": "code",
   "execution_count": null,
   "metadata": {
    "pycharm": {
     "name": "#%%\n"
    }
   },
   "outputs": [],
   "source": [
    "X_reshaped.shape"
   ]
  },
  {
   "cell_type": "code",
   "execution_count": null,
   "metadata": {
    "pycharm": {
     "name": "#%%\n"
    }
   },
   "outputs": [],
   "source": [
    "# print random images\n",
    "\n",
    "index = np.random.randint(0,23704,25)\n",
    "\n",
    "plt.figure(figsize=(16,16))\n",
    "\n",
    "for i in range(len(index)):\n",
    "    plt.subplot(5,5,(i%25)+1)\n",
    "    plt.grid(False)\n",
    "    plt.xticks([])\n",
    "    plt.yticks([])\n",
    "    plt.imshow(X_reshaped[index[i]].reshape(IMG_SIZE,IMG_SIZE))\n",
    "    plt.xlabel(\n",
    "        \"Age:\"+str(df['age'].iloc[index[i]])+\n",
    "        \" Ethnicity:\"+str(df['ethnicity'].iloc[index[i]])+\n",
    "        \" Gender:\"+str(df['gender'].iloc[index[i]])\n",
    "    )\n",
    "    \n",
    "plt.show()"
   ]
  },
  {
   "cell_type": "markdown",
   "metadata": {},
   "source": [
    "## 4. Split and preprocess the data"
   ]
  },
  {
   "cell_type": "code",
   "execution_count": null,
   "metadata": {
    "pycharm": {
     "name": "#%%\n"
    }
   },
   "outputs": [],
   "source": [
    "y=np.zeros(shape=(23705,3))\n",
    "\n",
    "for i in range(len(df)):\n",
    "    y[i] = np.array([df.age[i], df.gender[i], df.ethnicity[i]])\n",
    "    \n",
    "y = y.astype(np.int32)\n",
    "\n",
    "TARGETS = ['Age', 'Gender', 'Race']\n",
    "AGE_IDX = 0\n",
    "GENDER_IDX = 1\n",
    "RACE_IDX = 2"
   ]
  },
  {
   "cell_type": "code",
   "execution_count": null,
   "metadata": {
    "pycharm": {
     "name": "#%%\n"
    }
   },
   "outputs": [],
   "source": [
    "X_train, X_test, y_train, y_test = sklearn.model_selection.train_test_split(X, y, test_size=0.2, random_state=0)\n",
    "# X_train, X_val, y_train, y_val = sklearn.model_selection.train_test_split(X_train, y_train, test_size=0.25, random_state=0)"
   ]
  },
  {
   "cell_type": "code",
   "execution_count": null,
   "metadata": {
    "pycharm": {
     "name": "#%%\n"
    }
   },
   "outputs": [],
   "source": [
    "scaler = sklearn.preprocessing.StandardScaler()\n",
    "X_train = scaler.fit_transform(X_train)\n",
    "# X_val = scaler.transform(X_val)\n",
    "X_test = scaler.transform(X_test)"
   ]
  },
  {
   "cell_type": "code",
   "execution_count": null,
   "metadata": {
    "pycharm": {
     "name": "#%%\n"
    }
   },
   "outputs": [],
   "source": [
    "print(X_train[1].shape)"
   ]
  },
  {
   "cell_type": "code",
   "execution_count": null,
   "metadata": {
    "pycharm": {
     "name": "#%%\n"
    }
   },
   "outputs": [],
   "source": [
    "len(X_train)"
   ]
  },
  {
   "cell_type": "code",
   "execution_count": null,
   "metadata": {
    "pycharm": {
     "name": "#%%\n"
    }
   },
   "outputs": [],
   "source": [
    "fig = plt.figure(figsize=(5,5))\n",
    "\n",
    "plt.subplot(121)\n",
    "original = np.clip(scaler.inverse_transform(X_train[0]),0,255)\n",
    "print(original)\n",
    "plt.imshow(original.reshape(IMG_SIZE,IMG_SIZE))\n",
    "plt.title('original')\n",
    "plt.axis('off')\n",
    "\n",
    "plt.subplot(122)\n",
    "plt.imshow(np.clip(X_train[0],0,1).reshape(48,48))\n",
    "plt.title('scaled')\n",
    "plt.axis('off')\n",
    "\n",
    "plt.show()"
   ]
  },
  {
   "cell_type": "markdown",
   "metadata": {},
   "source": [
    "## 5. Modelling and Training"
   ]
  },
  {
   "cell_type": "code",
   "execution_count": null,
   "metadata": {
    "pycharm": {
     "name": "#%%\n"
    }
   },
   "outputs": [],
   "source": [
    "def test_predict(model, predict_index):\n",
    "    f, ax = plt.subplots(5,5, figsize=(15,15))\n",
    "\n",
    "    for i, data in enumerate(X_test[:25]):\n",
    "        model_out = int(model.predict(data.reshape(1,-1))[0])\n",
    "\n",
    "        if model_out == y_test[i,predict_index]:\n",
    "            color = 'g'\n",
    "        else:\n",
    "            color = 'r'\n",
    "\n",
    "        if(predict_index==GENDER_IDX):\n",
    "            str_predicted = GENDER_CATEGORIES[model_out]\n",
    "            str_true = GENDER_CATEGORIES[y_test[i,predict_index]]\n",
    "        elif(predict_index==RACE_IDX):\n",
    "            str_predicted = RACE_CATEGORIES[model_out]\n",
    "            str_true = RACE_CATEGORIES[y_test[i,predict_index]]\n",
    "        else:\n",
    "            str_predicted = model_out\n",
    "            str_true = model_out\n",
    "            \n",
    "        original = np.clip(scaler.inverse_transform(data),0,255)\n",
    "        ax[i//5, i%5].imshow(original.reshape(IMG_SIZE,IMG_SIZE))\n",
    "        ax[i//5, i%5].axis('off')\n",
    "        ax[i//5, i%5].set_title(f\"Pred: {str_predicted} True: {str_true}\", {'color' : color})    \n",
    "    plt.show()"
   ]
  },
  {
   "cell_type": "code",
   "execution_count": null,
   "metadata": {
    "pycharm": {
     "name": "#%%\n"
    }
   },
   "outputs": [],
   "source": [
    "def fit_model(model, X_train, y_train, cv, parameters, predict_idx):\n",
    "    fname = f'models/{predict_idx}-{type(model).__name__}.pkl'\n",
    "    \n",
    "    if os.path.isfile(fname):\n",
    "        # Load from file\n",
    "        with open(fname, 'rb') as file:\n",
    "            clf = pickle.load(file)\n",
    "    else:\n",
    "        y_train = y_train[:,predict_idx]\n",
    "        clf = sklearn.model_selection.GridSearchCV(model, parameters, verbose=1, cv=cv, n_jobs=-1)\n",
    "        clf.fit(X_train, y_train)\n",
    "        # Save to file\n",
    "        with open(fname, 'wb') as file:\n",
    "            pickle.dump(clf, file)\n",
    "    \n",
    "    print(f\"{TARGETS[predict_idx]} {type(model).__name__}\")\n",
    "    print(f\"Validation score: {clf.best_score_:.1%}\")\n",
    "    print(f\"Best params: {clf.best_params_}\\n\")\n",
    "    \n",
    "    return clf"
   ]
  },
  {
   "cell_type": "code",
   "execution_count": null,
   "metadata": {
    "pycharm": {
     "name": "#%%\n"
    }
   },
   "outputs": [],
   "source": [
    "# clf = sklearn.tree.DecisionTreeClassifier(max_depth=10, splitter='random', random_state=0)\n",
    "# clf.fit(X_train,y_train[:,2])"
   ]
  },
  {
   "cell_type": "code",
   "execution_count": null,
   "metadata": {
    "pycharm": {
     "name": "#%%\n"
    }
   },
   "outputs": [],
   "source": [
    "# print(\"train:   \", clf.score(X_train, y_train[:,2]))\n",
    "# print(\"validate:\", clf.score(X_val, y_val[:,2]))\n",
    "# print(\"test:    \", clf.score(X_test, y_test[:,2]))"
   ]
  },
  {
   "cell_type": "code",
   "execution_count": null,
   "metadata": {
    "pycharm": {
     "name": "#%%\n"
    }
   },
   "outputs": [],
   "source": [
    "# test_predict(clf, RACE_IDX)"
   ]
  },
  {
   "cell_type": "markdown",
   "metadata": {},
   "source": [
    "### 5a. Decision Trees"
   ]
  },
  {
   "cell_type": "code",
   "execution_count": null,
   "metadata": {
    "pycharm": {
     "name": "#%%\n"
    }
   },
   "outputs": [],
   "source": [
    "params = {'max_depth':[1, 5, 10, 20, 50, 100]}\n",
    "\n",
    "start_time = time.time()\n",
    "\n",
    "age_dt_model = fit_model(sklearn.tree.DecisionTreeClassifier(), X_train, y_train, 10, params, AGE_IDX)\n",
    "gender_dt_model = fit_model(sklearn.tree.DecisionTreeClassifier(), X_train, y_train, 10, params, GENDER_IDX)\n",
    "race_dt_model = fit_model(sklearn.tree.DecisionTreeClassifier(), X_train, y_train, 10, params, RACE_IDX)\n",
    "\n",
    "total_time = (time.time() - start_time)\n",
    "\n",
    "print(f\"Running Time: {total_time}\")"
   ]
  },
  {
   "cell_type": "markdown",
   "metadata": {},
   "source": [
    "### 5b. Random Forests"
   ]
  },
  {
   "cell_type": "code",
   "execution_count": null,
   "metadata": {
    "pycharm": {
     "name": "#%%\n"
    }
   },
   "outputs": [],
   "source": [
    "param = {'max_depth':[1, 5, 10, 20, 50, 100]}\n",
    "\n",
    "start_time = time.time()\n",
    "\n",
    "age_rf_model = fit_model(sklearn.ensemble.RandomForestClassifier(), X_train, y_train, 10, param, AGE_IDX)\n",
    "gender_rf_model = fit_model(sklearn.ensemble.RandomForestClassifier(), X_train, y_train, 10, param, GENDER_IDX)\n",
    "race_rf_model = fit_model(sklearn.ensemble.RandomForestClassifier(), X_train, y_train, 10, param, RACE_IDX)\n",
    "\n",
    "total_time = (time.time() - start_time)\n",
    "\n",
    "print(f\"Running Time: {total_time}\")"
   ]
  },
  {
   "cell_type": "markdown",
   "metadata": {},
   "source": [
    "### 5c. Logistic Regression"
   ]
  },
  {
   "cell_type": "code",
   "execution_count": null,
   "metadata": {
    "pycharm": {
     "name": "#%%\n"
    }
   },
   "outputs": [],
   "source": [
    "param = {'C':[0.0001, 0.001, 0.01, 0.1, 1.0]}\n",
    "\n",
    "start_time = time.time()\n",
    "\n",
    "age_lr_model = fit_model(sklearn.linear_model.LogisticRegression(), X_train, y_train, 10, param, AGE_IDX)\n",
    "gender_lr_model = fit_model(sklearn.linear_model.LogisticRegression(), X_train, y_train, 10, param, GENDER_IDX)\n",
    "race_lr_model = fit_model(sklearn.linear_model.LogisticRegression(), X_train, y_train, 10, param, RACE_IDX)\n",
    "\n",
    "total_time = (time.time() - start_time)\n",
    "\n",
    "print(f\"Running Time: {total_time}\")"
   ]
  },
  {
   "cell_type": "markdown",
   "metadata": {},
   "source": [
    "### 5d. SVM"
   ]
  },
  {
   "cell_type": "code",
   "execution_count": null,
   "metadata": {
    "pycharm": {
     "name": "#%%\n"
    }
   },
   "outputs": [],
   "source": [
    "param = {'C':[0.1, 1, 10, 100, 1000], 'gamma':[0.001]}\n",
    "\n",
    "start_time = time.time()\n",
    "\n",
    "age_svm_model = fit_model(sklearn.svm.SVC(), X_train, y_train, 10, param, AGE_IDX)\n",
    "gender_svm_model = fit_model(sklearn.svm.SVC(), X_train, y_train, 10, param, GENDER_IDX)\n",
    "race_svm_model = fit_model(sklearn.svm.SVC(), X_train, y_train, 10, param, RACE_IDX)\n",
    "\n",
    "total_time = (time.time() - start_time)\n",
    "\n",
    "print(f\"Running Time: {total_time}\")"
   ]
  },
  {
   "cell_type": "markdown",
   "metadata": {},
   "source": [
    "### 5e. Neural Networks"
   ]
  },
  {
   "cell_type": "code",
   "execution_count": null,
   "metadata": {
    "pycharm": {
     "name": "#%%\n"
    }
   },
   "outputs": [],
   "source": [
    "def build_model(num_classes, activation='softmax', loss='sparse_categorical_crossentropy'):\n",
    "    \n",
    "    inputs = tf.keras.Input(shape=(IMG_SIZE, IMG_SIZE, 1))\n",
    "    x = inputs\n",
    "    x = tf.keras.layers.Conv2D(16, 3, padding='same', activation='relu')(x)\n",
    "    x = tf.keras.layers.MaxPooling2D()(x)\n",
    "    x = tf.keras.layers.Conv2D(32, 3, padding='same', activation='relu')(x)\n",
    "    x = tf.keras.layers.MaxPooling2D()(x)\n",
    "    x = tf.keras.layers.Conv2D(64, 3, padding='same', activation='relu')(x)\n",
    "    x = tf.keras.layers.MaxPooling2D()(x)\n",
    "    x = tf.keras.layers.Flatten()(x)\n",
    "    x = tf.keras.layers.Dense(128, activation='relu')(x)\n",
    "    outputs = tf.keras.layers.Dense(num_classes, activation=activation)(x)\n",
    "    \n",
    "    model = tf.keras.Model(inputs=inputs, outputs=outputs)\n",
    "    \n",
    "    \n",
    "    model.compile(\n",
    "        optimizer='adam',\n",
    "        loss=loss,\n",
    "        metrics=['accuracy']\n",
    "    )\n",
    "    \n",
    "    return model"
   ]
  },
  {
   "cell_type": "code",
   "execution_count": null,
   "metadata": {
    "pycharm": {
     "name": "#%%\n"
    }
   },
   "outputs": [],
   "source": [
    "tf.version.VERSION"
   ]
  },
  {
   "cell_type": "code",
   "execution_count": null,
   "metadata": {
    "pycharm": {
     "name": "#%%\n"
    }
   },
   "outputs": [],
   "source": [
    "gender_model = build_model(1, activation='sigmoid', loss='binary_crossentropy')\n",
    "\n",
    "gender_history = gender_model.fit(\n",
    "    X_train.reshape(-1,48,48),\n",
    "    y_train[:,GENDER_IDX].reshape(-1),\n",
    "    validation_split=0.2,\n",
    "    batch_size=64,\n",
    "    epochs=10,\n",
    "    callbacks=[tf.keras.callbacks.ReduceLROnPlateau()],\n",
    "    verbose=1\n",
    ")"
   ]
  },
  {
   "cell_type": "code",
   "execution_count": null,
   "metadata": {
    "pycharm": {
     "name": "#%%\n"
    }
   },
   "outputs": [],
   "source": [
    "gender_history.history.keys()"
   ]
  },
  {
   "cell_type": "code",
   "execution_count": null,
   "metadata": {
    "pycharm": {
     "name": "#%%\n"
    }
   },
   "outputs": [],
   "source": [
    "gender_acc = gender_model.evaluate(X_test.reshape(-1,48,48), y_test[:,GENDER_IDX])[1]"
   ]
  },
  {
   "cell_type": "code",
   "execution_count": null,
   "metadata": {
    "pycharm": {
     "name": "#%%\n"
    }
   },
   "outputs": [],
   "source": [
    "plt.plot(gender_history.history['loss'], label='loss')\n",
    "plt.plot(gender_history.history['val_loss'], label='val_loss')\n",
    "plt.legend(loc=\"upper left\")\n",
    "plt.show()"
   ]
  },
  {
   "cell_type": "code",
   "execution_count": null,
   "metadata": {
    "pycharm": {
     "name": "#%%\n"
    }
   },
   "outputs": [],
   "source": [
    "y_pred = gender_model.predict(X_test.reshape(-1,48,48)).flatten()"
   ]
  },
  {
   "cell_type": "code",
   "execution_count": null,
   "metadata": {
    "pycharm": {
     "name": "#%%\n"
    }
   },
   "outputs": [],
   "source": [
    "np.round(y_pred).astype(np.int32)"
   ]
  },
  {
   "cell_type": "code",
   "execution_count": null,
   "metadata": {
    "pycharm": {
     "name": "#%%\n"
    }
   },
   "outputs": [],
   "source": [
    "age_model = build_model(117, activation='softmax', loss='sparse_categorical_crossentropy')\n",
    "\n",
    "age_history = age_model.fit(\n",
    "    X_train.reshape(-1,48,48),\n",
    "    y_train[:,AGE_IDX].reshape(-1),\n",
    "    validation_split=0.2,\n",
    "    batch_size=64,\n",
    "    epochs=7,\n",
    "    callbacks=[tf.keras.callbacks.ReduceLROnPlateau()],\n",
    "    verbose=1\n",
    ")"
   ]
  },
  {
   "cell_type": "code",
   "execution_count": null,
   "metadata": {
    "pycharm": {
     "name": "#%%\n"
    }
   },
   "outputs": [],
   "source": [
    "# Make predictions \n",
    "y_pred = age_model.predict(X_test.reshape(-1,48,48))"
   ]
  },
  {
   "cell_type": "code",
   "execution_count": null,
   "metadata": {
    "pycharm": {
     "name": "#%%\n"
    }
   },
   "outputs": [],
   "source": [
    "age_acc = age_model.evaluate(X_test.reshape(-1,48,48), y_test[:,AGE_IDX])[1]"
   ]
  },
  {
   "cell_type": "code",
   "execution_count": null,
   "metadata": {
    "pycharm": {
     "name": "#%%\n"
    }
   },
   "outputs": [],
   "source": [
    "# output_indexes = np.array([i for i in range(0, 101)])\n",
    "# apparent_predictions = np.sum(y_pred * output_indexes, axis = 1)"
   ]
  },
  {
   "cell_type": "code",
   "execution_count": null,
   "metadata": {
    "pycharm": {
     "name": "#%%\n"
    }
   },
   "outputs": [],
   "source": [
    "print(np.argmax(y_pred, axis=1)[4000:5000])"
   ]
  },
  {
   "cell_type": "code",
   "execution_count": null,
   "metadata": {
    "pycharm": {
     "name": "#%%\n"
    }
   },
   "outputs": [],
   "source": []
  },
  {
   "cell_type": "markdown",
   "metadata": {},
   "source": [
    "# Try it out - take a selfie! 😁"
   ]
  },
  {
   "cell_type": "code",
   "execution_count": null,
   "metadata": {
    "pycharm": {
     "name": "#%%\n"
    }
   },
   "outputs": [],
   "source": [
    "def rgb2gray(rgb):\n",
    "    return np.dot(rgb[...,:3], [0.2989, 0.5870, 0.1140])\n",
    "\n",
    "def single_image_predict(models, image):\n",
    "    '''\n",
    "    models [age, gender, race]\n",
    "    image 48x48 \n",
    "    '''\n",
    "    plt.imshow(image)\n",
    "    image = rgb2gray(image)\n",
    "    data = scaler.transform(image.reshape(1,-1))\n",
    "    age_pred = int(models[0].predict(data.reshape(1,-1))[0])\n",
    "#     gender_pred = GENDER_CATEGORIES[np.round(models[1].predict(data.reshape(-1,48,48)))]\n",
    "    gender_pred = GENDER_CATEGORIES[int(models[1].predict(data.reshape(1,-1))[0])]\n",
    "    race_pred = RACE_CATEGORIES[int(models[2].predict(data.reshape(1,-1))[0])]\n",
    "    \n",
    "    plt.grid(False)\n",
    "    plt.xticks([])\n",
    "    plt.yticks([])\n",
    "    plt.xlabel(f\"Age: {age_pred}  Gender: {gender_pred}  Ethnicity: {race_pred}\")\n",
    "    plt.show()"
   ]
  },
  {
   "cell_type": "code",
   "execution_count": null,
   "metadata": {
    "pycharm": {
     "name": "#%%\n"
    }
   },
   "outputs": [],
   "source": [
    "from IPython.display import HTML\n",
    "\n",
    "main_text = \"\"\"\n",
    "\n",
    "<input type=\"button\" onclick=\"javascript:code_toggle()\" value=\"Toggle code\" style=\"display:inline\"/>\n",
    "<button id=\"snap\">Snap Photo</button>\n",
    "<div>\n",
    "<video id=\"video\" width=\"240\" height=\"240\" autoplay></video>\n",
    "<canvas id=\"canvas\" width=\"240\" height=\"240\"></canvas>\n",
    "<canvas style=\"display:none\" id=\"canvas2\" width=\"48\" height=\"48\"></canvas>\n",
    "</div>\n",
    "\n",
    "<script>\n",
    "// Grab elements, create settings, etc.\n",
    "var video = document.getElementById('video');\n",
    "\n",
    "// Get access to the camera!\n",
    "if(navigator.mediaDevices && navigator.mediaDevices.getUserMedia) {\n",
    "    // Not adding `{ audio: true }` since we only want video now\n",
    "    navigator.mediaDevices.getUserMedia({ video: true }).then(function(stream) {\n",
    "        //video.src = window.URL.createObjectURL(stream);\n",
    "        //video.play();\n",
    "        video.srcObject=stream;\n",
    "        video.play();\n",
    "    });\n",
    "}\n",
    "\n",
    "// Elements for taking the snapshot\n",
    "var canvas = document.getElementById('canvas');\n",
    "var context = canvas.getContext('2d');\n",
    "var canvas2 = document.getElementById('canvas2');\n",
    "var context2 = canvas2.getContext('2d');\n",
    "var video = document.getElementById('video');\n",
    "\n",
    "// Trigger photo take\n",
    "document.getElementById(\"snap\").addEventListener(\"click\", function() {\n",
    "    context.drawImage(video, 0, 0, 240, 240);\n",
    "    context2.drawImage(video, 0, 0, 48, 48);\n",
    "    var myCanvas2 = document.getElementById('canvas2');\n",
    "    var image = myCanvas2.toDataURL(\"image/png\");\n",
    "    IPython.notebook.kernel.execute(\"print('testing')\")\n",
    "    IPython.notebook.kernel.execute(\"image = '\" + image + \"'\")\n",
    "});\n",
    "\n",
    "code_show=false; \n",
    "function code_toggle() {\n",
    "    if (code_show){\n",
    "        $('div.cell.code_cell.rendered.selected div.input').hide();\n",
    "    } else {\n",
    "        $('div.cell.code_cell.rendered.selected div.input').show();\n",
    "    }\n",
    "    code_show = !code_show\n",
    "} \n",
    "\n",
    "$( document ).ready(code_toggle);\n",
    "\n",
    "</script>\n",
    "\"\"\"\n",
    "HTML(main_text)\n"
   ]
  },
  {
   "cell_type": "code",
   "execution_count": null,
   "metadata": {
    "pycharm": {
     "name": "#%%\n"
    }
   },
   "outputs": [],
   "source": [
    "pil_im = Image.open(io.BytesIO(base64.b64decode(image.split(',')[1])))\n",
    "selfie = np.array(pil_im)[:,:,0:3]\n",
    "single_image_predict([age_svm_model,gender_svm_model,race_svm_model], selfie)"
   ]
  },
  {
   "cell_type": "code",
   "execution_count": null,
   "metadata": {
    "pycharm": {
     "name": "#%%\n"
    }
   },
   "outputs": [],
   "source": [
    "# img = cv2.imread('demo/', cv2.IMREAD_UNCHANGED)\n",
    "# img = cv2.cvtColor(img, cv2.COLOR_BGR2RGB)\n",
    "# res = cv2.resize(img, dsize=(48, 48), interpolation=cv2.INTER_CUBIC)"
   ]
  },
  {
   "cell_type": "code",
   "execution_count": null,
   "metadata": {
    "pycharm": {
     "name": "#%%\n"
    }
   },
   "outputs": [],
   "source": [
    "# single_image_predict([age_dt_model,gender_dt_model,race_dt_model], res)"
   ]
  },
  {
   "cell_type": "markdown",
   "metadata": {},
   "source": [
    "## Just for fun!"
   ]
  },
  {
   "cell_type": "code",
   "execution_count": null,
   "metadata": {
    "pycharm": {
     "name": "#%%\n"
    }
   },
   "outputs": [],
   "source": [
    "def load_images_from_folder(folder):\n",
    "    images = []\n",
    "    filenames = sorted(os.listdir(folder))\n",
    "    for filename in filenames:\n",
    "        img = cv2.imread(os.path.join(folder,filename))\n",
    "        img = cv2.cvtColor(img, cv2.COLOR_BGR2RGB)\n",
    "        if img is not None:\n",
    "            images.append(img)\n",
    "    return images\n",
    "\n",
    "def demo_image_predict(models):\n",
    "    '''\n",
    "    models [age, gender, race]\n",
    "    image 48x48 \n",
    "    '''\n",
    "    f, ax = plt.subplots(1,5, figsize=(20,20))\n",
    "\n",
    "    images = load_images_from_folder('demo')\n",
    "    \n",
    "    for i, image in enumerate(images):\n",
    "        image = cv2.resize(image, dsize=(120, 120), interpolation=cv2.INTER_CUBIC)\n",
    "        ax[i%5].imshow(image)\n",
    "        image = cv2.resize(image, dsize=(48, 48), interpolation=cv2.INTER_CUBIC)\n",
    "        image = rgb2gray(image)\n",
    "        data = scaler.transform(image.reshape(1,-1))\n",
    "        age_pred = int(models[0].predict(data.reshape(1,-1))[0])\n",
    "        gender_pred = GENDER_CATEGORIES[np.round(models[1].predict(image.reshape(-1,48,48)).flatten()).astype(np.int32)[0]]\n",
    "        race_pred = RACE_CATEGORIES[int(models[2].predict(data.reshape(1,-1))[0])]\n",
    "\n",
    "        ax[i%5].grid(False)\n",
    "        ax[i%5].axis('off')\n",
    "        ax[i%5].set_title(f\"Age: {age_pred}\\n  Gender: {gender_pred}\\n  Ethnicity: {race_pred}\")\n",
    "    plt.show()"
   ]
  },
  {
   "cell_type": "code",
   "execution_count": null,
   "metadata": {
    "pycharm": {
     "name": "#%%\n"
    }
   },
   "outputs": [],
   "source": [
    "demo_image_predict([age_svm_model,gender_model,race_svm_model])"
   ]
  },
  {
   "cell_type": "code",
   "execution_count": null,
   "metadata": {
    "pycharm": {
     "name": "#%%\n"
    }
   },
   "outputs": [],
   "source": []
  }
 ],
 "metadata": {
  "kernelspec": {
   "display_name": "Python 3",
   "language": "python",
   "name": "python3"
  },
  "language_info": {
   "codemirror_mode": {
    "name": "ipython",
    "version": 3
   },
   "file_extension": ".py",
   "mimetype": "text/x-python",
   "name": "python",
   "nbconvert_exporter": "python",
   "pygments_lexer": "ipython3",
   "version": "3.8.3"
  }
 },
 "nbformat": 4,
 "nbformat_minor": 4
}